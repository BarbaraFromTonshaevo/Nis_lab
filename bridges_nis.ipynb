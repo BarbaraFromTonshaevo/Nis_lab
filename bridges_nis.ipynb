{
 "cells": [
  {
   "cell_type": "code",
   "execution_count": 2,
   "metadata": {},
   "outputs": [],
   "source": [
    "import matplotlib.pyplot as plt\n",
    "import numpy as np\n",
    "import pandas as pd"
   ]
  },
  {
   "cell_type": "code",
   "execution_count": 12,
   "metadata": {},
   "outputs": [],
   "source": [
    "data = pd.DataFrame({'Number of vertices':[100,1000,10000],'Number of edges':[3*100,3*1000,3*10000], \n",
    "                    'Deterministic':[0.001,0.004,0.062003], \n",
    "                    'Random 1-bridges':[0.0015, 0.01, 0.157], 'Random 2-bridges':[0.0019, 0.001, 0.193]})"
   ]
  },
  {
   "cell_type": "code",
   "execution_count": 13,
   "metadata": {},
   "outputs": [
    {
     "data": {
      "text/html": [
       "<div>\n",
       "<style scoped>\n",
       "    .dataframe tbody tr th:only-of-type {\n",
       "        vertical-align: middle;\n",
       "    }\n",
       "\n",
       "    .dataframe tbody tr th {\n",
       "        vertical-align: top;\n",
       "    }\n",
       "\n",
       "    .dataframe thead th {\n",
       "        text-align: right;\n",
       "    }\n",
       "</style>\n",
       "<table border=\"1\" class=\"dataframe\">\n",
       "  <thead>\n",
       "    <tr style=\"text-align: right;\">\n",
       "      <th></th>\n",
       "      <th>Number of vertices</th>\n",
       "      <th>Number of edges</th>\n",
       "      <th>Deterministic</th>\n",
       "      <th>Random 1-bridges</th>\n",
       "      <th>Random 2-bridges</th>\n",
       "    </tr>\n",
       "  </thead>\n",
       "  <tbody>\n",
       "    <tr>\n",
       "      <th>0</th>\n",
       "      <td>100</td>\n",
       "      <td>300</td>\n",
       "      <td>0.001000</td>\n",
       "      <td>0.0015</td>\n",
       "      <td>0.0019</td>\n",
       "    </tr>\n",
       "    <tr>\n",
       "      <th>1</th>\n",
       "      <td>1000</td>\n",
       "      <td>3000</td>\n",
       "      <td>0.004000</td>\n",
       "      <td>0.0100</td>\n",
       "      <td>0.0010</td>\n",
       "    </tr>\n",
       "    <tr>\n",
       "      <th>2</th>\n",
       "      <td>10000</td>\n",
       "      <td>30000</td>\n",
       "      <td>0.062003</td>\n",
       "      <td>0.1570</td>\n",
       "      <td>0.1930</td>\n",
       "    </tr>\n",
       "  </tbody>\n",
       "</table>\n",
       "</div>"
      ],
      "text/plain": [
       "   Number of vertices  Number of edges  Deterministic  Random 1-bridges  \\\n",
       "0                 100              300       0.001000            0.0015   \n",
       "1                1000             3000       0.004000            0.0100   \n",
       "2               10000            30000       0.062003            0.1570   \n",
       "\n",
       "   Random 2-bridges  \n",
       "0            0.0019  \n",
       "1            0.0010  \n",
       "2            0.1930  "
      ]
     },
     "execution_count": 13,
     "metadata": {},
     "output_type": "execute_result"
    }
   ],
   "source": [
    "data"
   ]
  },
  {
   "cell_type": "code",
   "execution_count": 14,
   "metadata": {},
   "outputs": [
    {
     "data": {
      "image/png": "[encoded data removed]",
      "text/plain": [
       "<Figure size 432x288 with 1 Axes>"
      ]
     },
     "metadata": {
      "needs_background": "light"
     },
     "output_type": "display_data"
    }
   ],
   "source": [
    "plt.plot(data['Number of vertices'].values, data['Deterministic'].values )\n",
    "plt.plot(data['Number of vertices'].values, data['Random 1-bridges'].values)\n",
    "plt.plot(data['Number of vertices'].values, data['Random 2-bridges'].values)\n",
    "plt.legend(['Deterministic','Random 1-bridges', 'Random 2-bridges'])\n",
    "plt.plot(0,1.4)\n",
    "plt.ylabel('time (sec)')\n",
    "#plt.yscale('linear')\n",
    "plt.xlabel('Number of vertices')\n",
    "plt.title(\"Comparison of algorythms\")\n",
    "plt.show()"
   ]
  },
  {
   "cell_type": "code",
   "execution_count": 30,
   "metadata": {},
   "outputs": [],
   "source": [
    "data2 = pd.DataFrame({'Number of vertices':[100,500,750,1000],\n",
    "                     'Number of edges':[int((100**2-100)/5),int((500**2-500)/5),int((750**2-750)/5),int((1000**2-1000)/5)], \n",
    "                    'Deterministic':[0.006,0.156,0.318, 0.575], \n",
    "                    'Random 1-bridges':[0.017, 0.265, 0.561, 0.979], 'Random 2-bridges':[0.018, 0.32, 0.782, 1.437]})"
   ]
  },
  {
   "cell_type": "code",
   "execution_count": 31,
   "metadata": {},
   "outputs": [
    {
     "data": {
      "text/html": [
       "<div>\n",
       "<style scoped>\n",
       "    .dataframe tbody tr th:only-of-type {\n",
       "        vertical-align: middle;\n",
       "    }\n",
       "\n",
       "    .dataframe tbody tr th {\n",
       "        vertical-align: top;\n",
       "    }\n",
       "\n",
       "    .dataframe thead th {\n",
       "        text-align: right;\n",
       "    }\n",
       "</style>\n",
       "<table border=\"1\" class=\"dataframe\">\n",
       "  <thead>\n",
       "    <tr style=\"text-align: right;\">\n",
       "      <th></th>\n",
       "      <th>Number of vertices</th>\n",
       "      <th>Number of edges</th>\n",
       "      <th>Deterministic</th>\n",
       "      <th>Random 1-bridges</th>\n",
       "      <th>Random 2-bridges</th>\n",
       "    </tr>\n",
       "  </thead>\n",
       "  <tbody>\n",
       "    <tr>\n",
       "      <th>0</th>\n",
       "      <td>100</td>\n",
       "      <td>1980</td>\n",
       "      <td>0.006</td>\n",
       "      <td>0.017</td>\n",
       "      <td>0.018</td>\n",
       "    </tr>\n",
       "    <tr>\n",
       "      <th>1</th>\n",
       "      <td>500</td>\n",
       "      <td>49900</td>\n",
       "      <td>0.156</td>\n",
       "      <td>0.265</td>\n",
       "      <td>0.320</td>\n",
       "    </tr>\n",
       "    <tr>\n",
       "      <th>2</th>\n",
       "      <td>750</td>\n",
       "      <td>112350</td>\n",
       "      <td>0.318</td>\n",
       "      <td>0.561</td>\n",
       "      <td>0.782</td>\n",
       "    </tr>\n",
       "    <tr>\n",
       "      <th>3</th>\n",
       "      <td>1000</td>\n",
       "      <td>199800</td>\n",
       "      <td>0.575</td>\n",
       "      <td>0.979</td>\n",
       "      <td>1.437</td>\n",
       "    </tr>\n",
       "  </tbody>\n",
       "</table>\n",
       "</div>"
      ],
      "text/plain": [
       "   Number of vertices  Number of edges  Deterministic  Random 1-bridges  \\\n",
       "0                 100             1980          0.006             0.017   \n",
       "1                 500            49900          0.156             0.265   \n",
       "2                 750           112350          0.318             0.561   \n",
       "3                1000           199800          0.575             0.979   \n",
       "\n",
       "   Random 2-bridges  \n",
       "0             0.018  \n",
       "1             0.320  \n",
       "2             0.782  \n",
       "3             1.437  "
      ]
     },
     "execution_count": 31,
     "metadata": {},
     "output_type": "execute_result"
    }
   ],
   "source": [
    "data2"
   ]
  },
  {
   "cell_type": "code",
   "execution_count": 17,
   "metadata": {},
   "outputs": [
    {
     "data": {
      "image/png": "[encoded data removed]",
      "text/plain": [
       "<Figure size 432x288 with 1 Axes>"
      ]
     },
     "metadata": {
      "needs_background": "light"
     },
     "output_type": "display_data"
    }
   ],
   "source": [
    "plt.plot(data2['Number of vertices'].values, data2['Deterministic'].values )\n",
    "plt.plot(data2['Number of vertices'].values, data2['Random 1-bridges'].values)\n",
    "plt.plot(data2['Number of vertices'].values, data2['Random 2-bridges'].values)\n",
    "plt.legend(['Deterministic','Random 1-bridges', 'Random 2-bridges'])\n",
    "plt.plot(0,1.4)\n",
    "plt.ylabel('time (sec)')\n",
    "#plt.yscale('linear')\n",
    "plt.xlabel('Number of vertices')\n",
    "plt.title(\"Comparison of algorythms\")\n",
    "plt.show()"
   ]
  },
  {
   "cell_type": "code",
   "execution_count": 28,
   "metadata": {},
   "outputs": [],
   "source": [
    "sorts = pd.DataFrame({'Number of elements':[10**4,10**5,10**6],'Radix Sort':[0.002,0.024,0.22], \n",
    "                    'Standard sort':[0.003,0.026,0.476]})"
   ]
  },
  {
   "cell_type": "code",
   "execution_count": 32,
   "metadata": {},
   "outputs": [
    {
     "data": {
      "text/html": [
       "<div>\n",
       "<style scoped>\n",
       "    .dataframe tbody tr th:only-of-type {\n",
       "        vertical-align: middle;\n",
       "    }\n",
       "\n",
       "    .dataframe tbody tr th {\n",
       "        vertical-align: top;\n",
       "    }\n",
       "\n",
       "    .dataframe thead th {\n",
       "        text-align: right;\n",
       "    }\n",
       "</style>\n",
       "<table border=\"1\" class=\"dataframe\">\n",
       "  <thead>\n",
       "    <tr style=\"text-align: right;\">\n",
       "      <th></th>\n",
       "      <th>Number of elements</th>\n",
       "      <th>Radix Sort</th>\n",
       "      <th>Standard sort</th>\n",
       "    </tr>\n",
       "  </thead>\n",
       "  <tbody>\n",
       "    <tr>\n",
       "      <th>0</th>\n",
       "      <td>10000</td>\n",
       "      <td>0.002</td>\n",
       "      <td>0.003</td>\n",
       "    </tr>\n",
       "    <tr>\n",
       "      <th>1</th>\n",
       "      <td>100000</td>\n",
       "      <td>0.024</td>\n",
       "      <td>0.026</td>\n",
       "    </tr>\n",
       "    <tr>\n",
       "      <th>2</th>\n",
       "      <td>1000000</td>\n",
       "      <td>0.220</td>\n",
       "      <td>0.476</td>\n",
       "    </tr>\n",
       "  </tbody>\n",
       "</table>\n",
       "</div>"
      ],
      "text/plain": [
       "   Number of elements  Radix Sort  Standard sort\n",
       "0               10000       0.002          0.003\n",
       "1              100000       0.024          0.026\n",
       "2             1000000       0.220          0.476"
      ]
     },
     "execution_count": 32,
     "metadata": {},
     "output_type": "execute_result"
    }
   ],
   "source": [
    "sorts"
   ]
  },
  {
   "cell_type": "code",
   "execution_count": 29,
   "metadata": {},
   "outputs": [
    {
     "data": {
      "image/png": "[encoded data removed]",
      "text/plain": [
       "<Figure size 432x288 with 1 Axes>"
      ]
     },
     "metadata": {
      "needs_background": "light"
     },
     "output_type": "display_data"
    }
   ],
   "source": [
    "plt.plot(sorts['Number of elements'].values, sorts['Radix Sort'].values )\n",
    "plt.plot(sorts['Number of elements'].values, sorts['Standard sort'].values)\n",
    "\n",
    "plt.legend(['Radix Sort','Standard sort'])\n",
    "plt.plot(0,1)\n",
    "plt.ylabel('time (sec)')\n",
    "#plt.yscale('linear')\n",
    "plt.xlabel('Number of elements')\n",
    "plt.title(\"Comparison of sorts\")\n",
    "plt.show()"
   ]
  },
  {
   "cell_type": "code",
   "execution_count": null,
   "metadata": {},
   "outputs": [],
   "source": []
  }
 ],
 "metadata": {
  "kernelspec": {
   "display_name": "Python 3",
   "language": "python",
   "name": "python3"
  },
  "language_info": {
   "codemirror_mode": {
    "name": "ipython",
    "version": 3
   },
   "file_extension": ".py",
   "mimetype": "text/x-python",
   "name": "python",
   "nbconvert_exporter": "python",
   "pygments_lexer": "ipython3",
   "version": "3.7.0"
  }
 },
 "nbformat": 4,
 "nbformat_minor": 2
}
